{
 "cells": [
  {
   "cell_type": "code",
   "execution_count": null,
   "metadata": {},
   "outputs": [
    {
     "name": "stdout",
     "output_type": "stream",
     "text": [
      "  Year Site Removed  Sample Size       ARI\n",
      "0          19992000          174  0.987238\n",
      "1          20012002          188  0.946703\n",
      "2          20032004          185  0.970880\n",
      "3          20052006          175  0.466276\n",
      "4          20072008          318  0.485049\n",
      "5          20092010          318  0.972631\n",
      "6          20112012          271  0.947596\n",
      "7          20132014          233  0.943403\n",
      "8          20152016          294  0.982960\n",
      "9          20172018          284  0.939378\n"
     ]
    }
   ],
   "source": [
    "import pandas as pd\n",
    "import numpy as np\n",
    "from sklearn.cluster import KMeans\n",
    "from sklearn.preprocessing import StandardScaler\n",
    "from sklearn.metrics import adjusted_rand_score\n",
    "\n",
    "# Load the data\n",
    "path = '/Users/krishnasanaka/Library/CloudStorage/OneDrive-Emory/NHANES CKM Cascade/working/new diabetes/knn clusters.csv'\n",
    "analytic_dataset = pd.read_csv(path)\n",
    "\n",
    "# Select variables\n",
    "selected_variables = ['year', 'bmi', 'glycohemoglobin', 'dm_age', 'homa2b', 'homa2ir', 'triglyceride', 'ldl', 'sbp', 'dbp', 'hdl', 'respondentid', 'race', 'gender']\n",
    "\n",
    "# Drop missing values in the selected variables\n",
    "analytic_dataset = analytic_dataset[selected_variables]\n",
    "analytic_dataset = analytic_dataset.dropna()\n",
    "\n",
    "year_sites = analytic_dataset['year'].unique()\n",
    "\n",
    "# Standardize the entire dataset\n",
    "scaler = StandardScaler()\n",
    "var_5 = ['bmi', 'glycohemoglobin', 'dm_age', 'homa2b', 'homa2ir']\n",
    "cluster_v5 = scaler.fit_transform(analytic_dataset[var_5])\n",
    "\n",
    "# Perform KMeans clustering on the entire dataset\n",
    "kmeans = KMeans(init=\"random\", n_clusters=4, n_init=10, max_iter=300, random_state=57)\n",
    "kmeans.fit(cluster_v5)\n",
    "original_labels = kmeans.labels_\n",
    "\n",
    "# Leave-one-out analysis\n",
    "results = []\n",
    "\n",
    "for year_site in year_sites:\n",
    "    # Exclude the current study site from the dataset\n",
    "    excluded_dataset = analytic_dataset[analytic_dataset['year'] != year_site]\n",
    "    excluded_sample_size = len(analytic_dataset[analytic_dataset['year'] == year_site])\n",
    "    \n",
    "    # Standardize the excluded dataset\n",
    "    excluded_cluster_v5 = scaler.fit_transform(excluded_dataset[var_5])\n",
    "    \n",
    "    # Perform KMeans clustering on the excluded dataset\n",
    "    kmeans_excluded = KMeans(init=\"random\", n_clusters=4, n_init=10, max_iter=300, random_state=57)\n",
    "    kmeans_excluded.fit(excluded_cluster_v5)\n",
    "    excluded_labels = kmeans_excluded.labels_\n",
    "\n",
    "    # Adjust original_labels to exclude the study site\n",
    "    original_labels_excluded = original_labels[analytic_dataset['year'] != year_site]\n",
    "\n",
    "    # Calculate Adjusted Rand Index (ARI)\n",
    "    ARI = adjusted_rand_score(original_labels_excluded, excluded_labels)\n",
    "\n",
    "    # Append the results\n",
    "    results.append({'Year Site Removed': year_site, 'Sample Size': excluded_sample_size, 'ARI': ARI})\n",
    "\n",
    "# Convert results to DataFrame\n",
    "results_df = pd.DataFrame(results)\n",
    "\n",
    "# Define the desired order\n",
    "results_df['Year Site Removed'] = pd.Categorical(results_df['Year Site Removed'])\n",
    "results_df = results_df.sort_values('Year Site Removed')\n",
    "\n",
    "# Print the results\n",
    "print(results_df)\n",
    "# Save results to a CSV file\n",
    "results_df.to_csv('/Users/krishnasanaka/Library/CloudStorage/OneDrive-Emory/NHANES CKM Cascade/working/new diabetes/dec_an10a_sensitivity_analysis_results_ari_clean.csv', index=False)\n",
    "\n",
    "\n",
    "\n"
   ]
  },
  {
   "cell_type": "code",
   "execution_count": null,
   "metadata": {},
   "outputs": [],
   "source": []
  },
  {
   "cell_type": "code",
   "execution_count": null,
   "metadata": {},
   "outputs": [],
   "source": []
  },
  {
   "cell_type": "code",
   "execution_count": null,
   "metadata": {},
   "outputs": [],
   "source": []
  },
  {
   "cell_type": "code",
   "execution_count": null,
   "metadata": {},
   "outputs": [],
   "source": []
  },
  {
   "cell_type": "code",
   "execution_count": null,
   "metadata": {},
   "outputs": [],
   "source": []
  },
  {
   "cell_type": "code",
   "execution_count": null,
   "metadata": {},
   "outputs": [],
   "source": []
  }
 ],
 "metadata": {
  "kernelspec": {
   "display_name": "Python 3",
   "language": "python",
   "name": "python3"
  },
  "language_info": {
   "codemirror_mode": {
    "name": "ipython",
    "version": 3
   },
   "file_extension": ".py",
   "mimetype": "text/x-python",
   "name": "python",
   "nbconvert_exporter": "python",
   "pygments_lexer": "ipython3",
   "version": "3.9.6"
  }
 },
 "nbformat": 4,
 "nbformat_minor": 2
}
