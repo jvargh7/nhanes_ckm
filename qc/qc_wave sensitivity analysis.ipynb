{
 "cells": [
  {
   "cell_type": "code",
   "execution_count": null,
   "metadata": {},
   "outputs": [
    {
     "ename": "KeyError",
     "evalue": "'study'",
     "output_type": "error",
     "traceback": [
      "\u001b[0;31m---------------------------------------------------------------------------\u001b[0m",
      "\u001b[0;31mKeyError\u001b[0m                                  Traceback (most recent call last)",
      "File \u001b[0;32m~/Library/Python/3.9/lib/python/site-packages/pandas/core/indexes/base.py:3805\u001b[0m, in \u001b[0;36mIndex.get_loc\u001b[0;34m(self, key)\u001b[0m\n\u001b[1;32m   3804\u001b[0m \u001b[38;5;28;01mtry\u001b[39;00m:\n\u001b[0;32m-> 3805\u001b[0m     \u001b[38;5;28;01mreturn\u001b[39;00m \u001b[38;5;28;43mself\u001b[39;49m\u001b[38;5;241;43m.\u001b[39;49m\u001b[43m_engine\u001b[49m\u001b[38;5;241;43m.\u001b[39;49m\u001b[43mget_loc\u001b[49m\u001b[43m(\u001b[49m\u001b[43mcasted_key\u001b[49m\u001b[43m)\u001b[49m\n\u001b[1;32m   3806\u001b[0m \u001b[38;5;28;01mexcept\u001b[39;00m \u001b[38;5;167;01mKeyError\u001b[39;00m \u001b[38;5;28;01mas\u001b[39;00m err:\n",
      "File \u001b[0;32mindex.pyx:167\u001b[0m, in \u001b[0;36mpandas._libs.index.IndexEngine.get_loc\u001b[0;34m()\u001b[0m\n",
      "File \u001b[0;32mindex.pyx:196\u001b[0m, in \u001b[0;36mpandas._libs.index.IndexEngine.get_loc\u001b[0;34m()\u001b[0m\n",
      "File \u001b[0;32mpandas/_libs/hashtable_class_helper.pxi:7081\u001b[0m, in \u001b[0;36mpandas._libs.hashtable.PyObjectHashTable.get_item\u001b[0;34m()\u001b[0m\n",
      "File \u001b[0;32mpandas/_libs/hashtable_class_helper.pxi:7089\u001b[0m, in \u001b[0;36mpandas._libs.hashtable.PyObjectHashTable.get_item\u001b[0;34m()\u001b[0m\n",
      "\u001b[0;31mKeyError\u001b[0m: 'study'",
      "\nThe above exception was the direct cause of the following exception:\n",
      "\u001b[0;31mKeyError\u001b[0m                                  Traceback (most recent call last)",
      "Cell \u001b[0;32mIn[8], line 47\u001b[0m\n\u001b[1;32m     44\u001b[0m excluded_labels \u001b[38;5;241m=\u001b[39m kmeans_excluded\u001b[38;5;241m.\u001b[39mlabels_\n\u001b[1;32m     46\u001b[0m \u001b[38;5;66;03m# Adjust original_labels to exclude the study site\u001b[39;00m\n\u001b[0;32m---> 47\u001b[0m original_labels_excluded \u001b[38;5;241m=\u001b[39m original_labels[\u001b[43manalytic_dataset\u001b[49m\u001b[43m[\u001b[49m\u001b[38;5;124;43m'\u001b[39;49m\u001b[38;5;124;43mstudy\u001b[39;49m\u001b[38;5;124;43m'\u001b[39;49m\u001b[43m]\u001b[49m \u001b[38;5;241m!=\u001b[39m year_site]\n\u001b[1;32m     49\u001b[0m \u001b[38;5;66;03m# Calculate Adjusted Rand Index (ARI)\u001b[39;00m\n\u001b[1;32m     50\u001b[0m ARI \u001b[38;5;241m=\u001b[39m adjusted_rand_score(original_labels_excluded, excluded_labels)\n",
      "File \u001b[0;32m~/Library/Python/3.9/lib/python/site-packages/pandas/core/frame.py:4102\u001b[0m, in \u001b[0;36mDataFrame.__getitem__\u001b[0;34m(self, key)\u001b[0m\n\u001b[1;32m   4100\u001b[0m \u001b[38;5;28;01mif\u001b[39;00m \u001b[38;5;28mself\u001b[39m\u001b[38;5;241m.\u001b[39mcolumns\u001b[38;5;241m.\u001b[39mnlevels \u001b[38;5;241m>\u001b[39m \u001b[38;5;241m1\u001b[39m:\n\u001b[1;32m   4101\u001b[0m     \u001b[38;5;28;01mreturn\u001b[39;00m \u001b[38;5;28mself\u001b[39m\u001b[38;5;241m.\u001b[39m_getitem_multilevel(key)\n\u001b[0;32m-> 4102\u001b[0m indexer \u001b[38;5;241m=\u001b[39m \u001b[38;5;28;43mself\u001b[39;49m\u001b[38;5;241;43m.\u001b[39;49m\u001b[43mcolumns\u001b[49m\u001b[38;5;241;43m.\u001b[39;49m\u001b[43mget_loc\u001b[49m\u001b[43m(\u001b[49m\u001b[43mkey\u001b[49m\u001b[43m)\u001b[49m\n\u001b[1;32m   4103\u001b[0m \u001b[38;5;28;01mif\u001b[39;00m is_integer(indexer):\n\u001b[1;32m   4104\u001b[0m     indexer \u001b[38;5;241m=\u001b[39m [indexer]\n",
      "File \u001b[0;32m~/Library/Python/3.9/lib/python/site-packages/pandas/core/indexes/base.py:3812\u001b[0m, in \u001b[0;36mIndex.get_loc\u001b[0;34m(self, key)\u001b[0m\n\u001b[1;32m   3807\u001b[0m     \u001b[38;5;28;01mif\u001b[39;00m \u001b[38;5;28misinstance\u001b[39m(casted_key, \u001b[38;5;28mslice\u001b[39m) \u001b[38;5;129;01mor\u001b[39;00m (\n\u001b[1;32m   3808\u001b[0m         \u001b[38;5;28misinstance\u001b[39m(casted_key, abc\u001b[38;5;241m.\u001b[39mIterable)\n\u001b[1;32m   3809\u001b[0m         \u001b[38;5;129;01mand\u001b[39;00m \u001b[38;5;28many\u001b[39m(\u001b[38;5;28misinstance\u001b[39m(x, \u001b[38;5;28mslice\u001b[39m) \u001b[38;5;28;01mfor\u001b[39;00m x \u001b[38;5;129;01min\u001b[39;00m casted_key)\n\u001b[1;32m   3810\u001b[0m     ):\n\u001b[1;32m   3811\u001b[0m         \u001b[38;5;28;01mraise\u001b[39;00m InvalidIndexError(key)\n\u001b[0;32m-> 3812\u001b[0m     \u001b[38;5;28;01mraise\u001b[39;00m \u001b[38;5;167;01mKeyError\u001b[39;00m(key) \u001b[38;5;28;01mfrom\u001b[39;00m\u001b[38;5;250m \u001b[39m\u001b[38;5;21;01merr\u001b[39;00m\n\u001b[1;32m   3813\u001b[0m \u001b[38;5;28;01mexcept\u001b[39;00m \u001b[38;5;167;01mTypeError\u001b[39;00m:\n\u001b[1;32m   3814\u001b[0m     \u001b[38;5;66;03m# If we have a listlike key, _check_indexing_error will raise\u001b[39;00m\n\u001b[1;32m   3815\u001b[0m     \u001b[38;5;66;03m#  InvalidIndexError. Otherwise we fall through and re-raise\u001b[39;00m\n\u001b[1;32m   3816\u001b[0m     \u001b[38;5;66;03m#  the TypeError.\u001b[39;00m\n\u001b[1;32m   3817\u001b[0m     \u001b[38;5;28mself\u001b[39m\u001b[38;5;241m.\u001b[39m_check_indexing_error(key)\n",
      "\u001b[0;31mKeyError\u001b[0m: 'study'"
     ]
    }
   ],
   "source": [
    "import pandas as pd\n",
    "import numpy as np\n",
    "from sklearn.cluster import KMeans\n",
    "from sklearn.preprocessing import StandardScaler\n",
    "from sklearn.metrics import adjusted_rand_score\n",
    "\n",
    "# Load the data\n",
    "path = '/Users/krishnasanaka/Library/CloudStorage/OneDrive-Emory/NHANES CKM Cascade/working/new diabetes/knn clusters.csv'\n",
    "analytic_dataset = pd.read_csv(path)\n",
    "\n",
    "# Select variables\n",
    "selected_variables = ['year', 'bmi', 'glycohemoglobin', 'dm_age', 'homa2b', 'homa2ir', 'triglyceride', 'ldl', 'sbp', 'dbp', 'hdl', 'respondentid', 'race', 'gender']\n",
    "\n",
    "# Drop missing values in the selected variables\n",
    "analytic_dataset = analytic_dataset[selected_variables]\n",
    "analytic_dataset = analytic_dataset.dropna()\n",
    "\n",
    "year_sites = analytic_dataset['year'].unique()\n",
    "\n",
    "# Standardize the entire dataset\n",
    "scaler = StandardScaler()\n",
    "var_5 = ['bmi', 'glycohemoglobin', 'dm_age', 'homa2b', 'homa2ir']\n",
    "cluster_v5 = scaler.fit_transform(analytic_dataset[var_5])\n",
    "\n",
    "# Perform KMeans clustering on the entire dataset\n",
    "kmeans = KMeans(init=\"random\", n_clusters=4, n_init=10, max_iter=300, random_state=57)\n",
    "kmeans.fit(cluster_v5)\n",
    "original_labels = kmeans.labels_\n",
    "\n",
    "# Leave-one-out analysis\n",
    "results = []\n",
    "\n",
    "for year_site in year_sites:\n",
    "    # Exclude the current study site from the dataset\n",
    "    excluded_dataset = analytic_dataset[analytic_dataset['year'] != year_site]\n",
    "    excluded_sample_size = len(analytic_dataset[analytic_dataset['year'] == year_site])\n",
    "    \n",
    "    # Standardize the excluded dataset\n",
    "    excluded_cluster_v5 = scaler.fit_transform(excluded_dataset[var_5])\n",
    "    \n",
    "    # Perform KMeans clustering on the excluded dataset\n",
    "    kmeans_excluded = KMeans(init=\"random\", n_clusters=4, n_init=10, max_iter=300, random_state=57)\n",
    "    kmeans_excluded.fit(excluded_cluster_v5)\n",
    "    excluded_labels = kmeans_excluded.labels_\n",
    "\n",
    "    # Adjust original_labels to exclude the study site\n",
    "    original_labels_excluded = original_labels[analytic_dataset['year'] != year_site]\n",
    "\n",
    "    # Calculate Adjusted Rand Index (ARI)\n",
    "    ARI = adjusted_rand_score(original_labels_excluded, excluded_labels)\n",
    "\n",
    "    # Append the results\n",
    "    results.append({'Year Site Removed': year_site, 'Sample Size': excluded_sample_size, 'ARI': ARI})\n",
    "\n",
    "# Convert results to DataFrame\n",
    "results_df = pd.DataFrame(results)\n",
    "\n",
    "# Define the desired order\n",
    "results_df['Year Site Removed'] = pd.Categorical(results_df['Year Site Removed'])\n",
    "results_df = results_df.sort_values('Year Site Removed')\n",
    "\n",
    "# Print the results\n",
    "print(results_df)\n",
    "# Save results to a CSV file\n",
    "results_df.to_csv('/Users/krishnasanaka/Library/CloudStorage/OneDrive-Emory/NHANES CKM Cascade/working/new diabetes/dec_an10a_sensitivity_analysis_results_ari_clean.csv', index=False)\n",
    "\n",
    "\n",
    "\n",
    "\n",
    "\n",
    "\n",
    "\n",
    "\n",
    "\n"
   ]
  },
  {
   "cell_type": "code",
   "execution_count": null,
   "metadata": {},
   "outputs": [],
   "source": []
  },
  {
   "cell_type": "code",
   "execution_count": null,
   "metadata": {},
   "outputs": [],
   "source": []
  },
  {
   "cell_type": "code",
   "execution_count": null,
   "metadata": {},
   "outputs": [],
   "source": []
  },
  {
   "cell_type": "code",
   "execution_count": null,
   "metadata": {},
   "outputs": [],
   "source": []
  }
 ],
 "metadata": {
  "kernelspec": {
   "display_name": "Python 3",
   "language": "python",
   "name": "python3"
  },
  "language_info": {
   "codemirror_mode": {
    "name": "ipython",
    "version": 3
   },
   "file_extension": ".py",
   "mimetype": "text/x-python",
   "name": "python",
   "nbconvert_exporter": "python",
   "pygments_lexer": "ipython3",
   "version": "3.9.6"
  }
 },
 "nbformat": 4,
 "nbformat_minor": 2
}
